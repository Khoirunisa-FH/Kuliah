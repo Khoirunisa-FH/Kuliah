{
 "cells": [
  {
   "cell_type": "markdown",
   "id": "f89f7684",
   "metadata": {},
   "source": [
    "# Data Processing dengan Apache Spark"
   ]
  },
  {
   "cell_type": "markdown",
   "id": "fca66b73",
   "metadata": {},
   "source": [
    "### Tugas 1\n",
    "Buat DataFrame sederhana di Spark dan eksplorasi beberapa fungsi dasar yang tersedia."
   ]
  },
  {
   "cell_type": "code",
   "execution_count": 1,
   "id": "01149ef1-3e62-4064-a024-4ea71766b57b",
   "metadata": {},
   "outputs": [
    {
     "name": "stdout",
     "output_type": "stream",
     "text": [
      "+------------+-----------+-------+\n",
      "|NamaKaryawan| Departemen|   Gaji|\n",
      "+------------+-----------+-------+\n",
      "|        Joko|  Penjualan|4500000|\n",
      "|        Siti|   Keuangan|6000000|\n",
      "|        Budi|  Pemasaran|5200000|\n",
      "|        Dewi|         IT|4800000|\n",
      "|        Andi|        HRD|4100000|\n",
      "|        Rina|Operasional|5700000|\n",
      "|        Toni|   Produksi|4300000|\n",
      "|        Lina|   Produksi|4900000|\n",
      "|        Asep|   Logistik|4100000|\n",
      "|        Nina|         IT|6500000|\n",
      "+------------+-----------+-------+\n",
      "\n"
     ]
    }
   ],
   "source": [
    "from pyspark.sql import SparkSession\n",
    "spark = SparkSession.builder.appName('HandsOnPertemuan6').getOrCreate()\n",
    "\n",
    "data = [('Joko', 'Penjualan', 4500000),\n",
    "        ('Siti', 'Keuangan', 6000000),\n",
    "        ('Budi', 'Pemasaran', 5200000),\n",
    "        ('Dewi', 'IT', 4800000),\n",
    "        ('Andi', 'HRD', 4100000),\n",
    "        ('Rina', 'Operasional', 5700000),\n",
    "        ('Toni', 'Produksi', 4300000),\n",
    "        ('Lina', 'Produksi', 4900000),\n",
    "        ('Asep', 'Logistik', 4100000),\n",
    "        ('Nina', 'IT', 6500000)]\n",
    "\n",
    "kolom = ['NamaKaryawan', 'Departemen', 'Gaji']\n",
    "\n",
    "df = spark.createDataFrame(data, schema=kolom)\n",
    "df.show()\n"
   ]
  },
  {
   "cell_type": "markdown",
   "id": "bf4b3f5c-d558-452f-b308-a9ffae410e0b",
   "metadata": {},
   "source": [
    "### Tugas 2\n",
    "Gunakan operasi filter, select, groupBy untuk mengekstrak informasi dari data, serta lakukan agregasi data untuk mendapatkan insight tentang dataset menggunakan perintah seperti mean, max, sum. "
   ]
  },
  {
   "cell_type": "code",
   "execution_count": 2,
   "id": "58232678",
   "metadata": {},
   "outputs": [
    {
     "name": "stdout",
     "output_type": "stream",
     "text": [
      "+------------+-----------+-------+\n",
      "|NamaKaryawan| Departemen|   Gaji|\n",
      "+------------+-----------+-------+\n",
      "|        Siti|   Keuangan|6000000|\n",
      "|        Budi|  Pemasaran|5200000|\n",
      "|        Dewi|         IT|4800000|\n",
      "|        Rina|Operasional|5700000|\n",
      "|        Lina|   Produksi|4900000|\n",
      "|        Nina|         IT|6500000|\n",
      "+------------+-----------+-------+\n",
      "\n"
     ]
    }
   ],
   "source": [
    "# Operasi Filter\n",
    "df.filter(df['Gaji'] > 4600000).show()"
   ]
  },
  {
   "cell_type": "code",
   "execution_count": 3,
   "id": "387bb3cc-4312-4fd3-9177-013e677877ea",
   "metadata": {},
   "outputs": [
    {
     "name": "stdout",
     "output_type": "stream",
     "text": [
      "+------------+-------+\n",
      "|NamaKaryawan|   Gaji|\n",
      "+------------+-------+\n",
      "|        Joko|4500000|\n",
      "|        Siti|6000000|\n",
      "|        Budi|5200000|\n",
      "|        Dewi|4800000|\n",
      "|        Andi|4100000|\n",
      "|        Rina|5700000|\n",
      "|        Toni|4300000|\n",
      "|        Lina|4900000|\n",
      "|        Asep|4100000|\n",
      "|        Nina|6500000|\n",
      "+------------+-------+\n",
      "\n"
     ]
    }
   ],
   "source": [
    "# Operasi Select\n",
    "df.select('NamaKaryawan', 'Gaji').show()"
   ]
  },
  {
   "cell_type": "code",
   "execution_count": 4,
   "id": "6ff463f6-4b74-4714-b833-c0d3e228acd9",
   "metadata": {},
   "outputs": [
    {
     "name": "stdout",
     "output_type": "stream",
     "text": [
      "+-----------+-----+\n",
      "| Departemen|count|\n",
      "+-----------+-----+\n",
      "|  Penjualan|    1|\n",
      "|   Keuangan|    1|\n",
      "|  Pemasaran|    1|\n",
      "|         IT|    2|\n",
      "|        HRD|    1|\n",
      "|Operasional|    1|\n",
      "|   Produksi|    2|\n",
      "|   Logistik|    1|\n",
      "+-----------+-----+\n",
      "\n"
     ]
    }
   ],
   "source": [
    "# Operasi GroupBy\n",
    "\n",
    "df.groupBy('Departemen').count().show()"
   ]
  },
  {
   "cell_type": "code",
   "execution_count": 5,
   "id": "6d5b6560-a1d7-44b1-89c9-856a3cfe9842",
   "metadata": {},
   "outputs": [
    {
     "name": "stdout",
     "output_type": "stream",
     "text": [
      "+-----------+---------+\n",
      "| Departemen|avg(Gaji)|\n",
      "+-----------+---------+\n",
      "|  Penjualan|4500000.0|\n",
      "|   Keuangan|6000000.0|\n",
      "|  Pemasaran|5200000.0|\n",
      "|         IT|5650000.0|\n",
      "|        HRD|4100000.0|\n",
      "|Operasional|5700000.0|\n",
      "|   Produksi|4600000.0|\n",
      "|   Logistik|4100000.0|\n",
      "+-----------+---------+\n",
      "\n"
     ]
    }
   ],
   "source": [
    "# Operasi Mean\n",
    "\n",
    "df_grouped_avg = df.groupBy('Departemen').mean('Gaji')\n",
    "df_grouped_avg.show()"
   ]
  },
  {
   "cell_type": "code",
   "execution_count": 6,
   "id": "42991245-b0c8-4ddd-87b2-15e01adc66fe",
   "metadata": {},
   "outputs": [
    {
     "name": "stdout",
     "output_type": "stream",
     "text": [
      "+-----------+---------+\n",
      "| Departemen|max(Gaji)|\n",
      "+-----------+---------+\n",
      "|  Penjualan|  4500000|\n",
      "|   Keuangan|  6000000|\n",
      "|  Pemasaran|  5200000|\n",
      "|         IT|  6500000|\n",
      "|        HRD|  4100000|\n",
      "|Operasional|  5700000|\n",
      "|   Produksi|  4900000|\n",
      "|   Logistik|  4100000|\n",
      "+-----------+---------+\n",
      "\n"
     ]
    }
   ],
   "source": [
    "# Operasi Max\n",
    "\n",
    "df_grouped_max = df.groupBy('Departemen').max('Gaji')\n",
    "df_grouped_max.show()"
   ]
  },
  {
   "cell_type": "code",
   "execution_count": 10,
   "id": "0c767c20-c6b8-4353-b39b-621656635cbc",
   "metadata": {},
   "outputs": [
    {
     "name": "stdout",
     "output_type": "stream",
     "text": [
      "+-----------+---------+\n",
      "| Departemen|sum(Gaji)|\n",
      "+-----------+---------+\n",
      "|  Penjualan|  4500000|\n",
      "|   Keuangan|  6000000|\n",
      "|  Pemasaran|  5200000|\n",
      "|         IT| 11300000|\n",
      "|        HRD|  4100000|\n",
      "|Operasional|  5700000|\n",
      "|   Produksi|  9200000|\n",
      "|   Logistik|  4100000|\n",
      "+-----------+---------+\n",
      "\n"
     ]
    }
   ],
   "source": [
    "# Operasi Sum\n",
    "\n",
    "df_grouped_sum = df.groupBy('Departemen').sum('Gaji')\n",
    "df_grouped_sum.show()"
   ]
  },
  {
   "cell_type": "markdown",
   "id": "89763d36",
   "metadata": {},
   "source": [
    "### Tugas 3\n",
    "Eksplorasi bagaimana mengolah tipe data kompleks dalam Spark DataFrames."
   ]
  },
  {
   "cell_type": "code",
   "execution_count": 9,
   "id": "14701d79",
   "metadata": {},
   "outputs": [
    {
     "name": "stdout",
     "output_type": "stream",
     "text": [
      "+------------+-----------+-------+---------+-----------------+\n",
      "|NamaKaryawan| Departemen|   Gaji|BonusGaji|TotalCompensation|\n",
      "+------------+-----------+-------+---------+-----------------+\n",
      "|        Joko|  Penjualan|4500000| 450000.0|        4950000.0|\n",
      "|        Siti|   Keuangan|6000000| 600000.0|        6600000.0|\n",
      "|        Budi|  Pemasaran|5200000| 520000.0|        5720000.0|\n",
      "|        Dewi|         IT|4800000| 480000.0|        5280000.0|\n",
      "|        Andi|        HRD|4100000| 410000.0|        4510000.0|\n",
      "|        Rina|Operasional|5700000| 570000.0|        6270000.0|\n",
      "|        Toni|   Produksi|4300000| 430000.0|        4730000.0|\n",
      "|        Lina|   Produksi|4900000| 490000.0|        5390000.0|\n",
      "|        Asep|   Logistik|4100000| 410000.0|        4510000.0|\n",
      "|        Nina|         IT|6500000| 650000.0|        7150000.0|\n",
      "+------------+-----------+-------+---------+-----------------+\n",
      "\n"
     ]
    }
   ],
   "source": [
    "# Manipulasi tipe data kompleks\n",
    "\n",
    "df = df.withColumn('BonusGaji', df['Gaji'] * 0.1)\n",
    "df = df.withColumn('TotalCompensation', df['Gaji'] + df['BonusGaji'])\n",
    "df.show()\n"
   ]
  },
  {
   "cell_type": "markdown",
   "id": "5b3b58dd",
   "metadata": {},
   "source": [
    "### Tugas 4\n",
    "Implementasikan window function untuk menghitung running totals atau rangkings."
   ]
  },
  {
   "cell_type": "code",
   "execution_count": 12,
   "id": "035312eb",
   "metadata": {},
   "outputs": [
    {
     "name": "stdout",
     "output_type": "stream",
     "text": [
      "+------------+-----------+-------+---------+-----------------+----+\n",
      "|NamaKaryawan| Departemen|   Gaji|BonusGaji|TotalCompensation|Rank|\n",
      "+------------+-----------+-------+---------+-----------------+----+\n",
      "|        Andi|        HRD|4100000| 410000.0|        4510000.0|   1|\n",
      "|        Dewi|         IT|4800000| 480000.0|        5280000.0|   1|\n",
      "|        Nina|         IT|6500000| 650000.0|        7150000.0|   2|\n",
      "|        Siti|   Keuangan|6000000| 600000.0|        6600000.0|   1|\n",
      "|        Asep|   Logistik|4100000| 410000.0|        4510000.0|   1|\n",
      "|        Rina|Operasional|5700000| 570000.0|        6270000.0|   1|\n",
      "|        Budi|  Pemasaran|5200000| 520000.0|        5720000.0|   1|\n",
      "|        Joko|  Penjualan|4500000| 450000.0|        4950000.0|   1|\n",
      "|        Toni|   Produksi|4300000| 430000.0|        4730000.0|   1|\n",
      "|        Lina|   Produksi|4900000| 490000.0|        5390000.0|   2|\n",
      "+------------+-----------+-------+---------+-----------------+----+\n",
      "\n"
     ]
    }
   ],
   "source": [
    "# Menggunakan window functions\n",
    "from pyspark.sql.window import Window\n",
    "from pyspark.sql import functions as F\n",
    "\n",
    "windowSpec = Window.partitionBy('Departemen').orderBy('Gaji')\n",
    "df.withColumn('Rank', F.rank().over(windowSpec)).show()"
   ]
  },
  {
   "cell_type": "markdown",
   "id": "f8a097ec",
   "metadata": {},
   "source": [
    "### Tugas 5 \n",
    "Buat ringkasan dari semua operasi yang telah dilakukan dan bagaimana teknik ini dapat diterapkan pada proyek data Anda."
   ]
  },
  {
   "cell_type": "code",
   "execution_count": null,
   "id": "05bd5a38-6b7c-4f35-b381-6ed84ce3748d",
   "metadata": {},
   "outputs": [],
   "source": []
  }
 ],
 "metadata": {
  "kernelspec": {
   "display_name": "Python 3 (ipykernel)",
   "language": "python",
   "name": "python3"
  },
  "language_info": {
   "codemirror_mode": {
    "name": "ipython",
    "version": 3
   },
   "file_extension": ".py",
   "mimetype": "text/x-python",
   "name": "python",
   "nbconvert_exporter": "python",
   "pygments_lexer": "ipython3",
   "version": "3.11.9"
  }
 },
 "nbformat": 4,
 "nbformat_minor": 5
}
