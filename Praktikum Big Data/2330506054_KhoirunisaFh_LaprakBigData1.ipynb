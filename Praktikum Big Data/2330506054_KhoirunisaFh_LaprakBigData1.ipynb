{
 "cells": [
  {
   "cell_type": "markdown",
   "id": "10c25d6f",
   "metadata": {
    "id": "10c25d6f"
   },
   "source": [
    "# Laporan Praktikum: Pengenalan Big Data dan Overview Teknologi"
   ]
  },
  {
   "cell_type": "markdown",
   "id": "f4da1cdb-3c52-4957-b9fe-5b7e09920ed6",
   "metadata": {
    "id": "8daa78a0"
   },
   "source": [
    "## Langkah-Langkah Penginstallan\n"
   ]
  },
  {
   "cell_type": "markdown",
   "id": "883b093a-30b6-411c-bf2a-4308df78fff3",
   "metadata": {},
   "source": [
    "Langkah-langkah penginstallan dapat di lihat pada link berikut:"
   ]
  },
  {
   "cell_type": "markdown",
   "id": "3b6304fa-a302-4d69-bca9-8d11d9f30e08",
   "metadata": {},
   "source": [
    "https://github.com/Khoirunisa-FH/Kuliah/blob/main/Praktikum%20Big%20Data/Langkah-Langkah%20Penginstallan_2330506054_KhoirunisaFh.pdf"
   ]
  },
  {
   "cell_type": "markdown",
   "id": "d1017a10-1a2e-410d-bee1-4cf59896d873",
   "metadata": {},
   "source": [
    "## Latihan dan Tugas"
   ]
  },
  {
   "cell_type": "markdown",
   "id": "264bcf09-9ea6-4410-9114-abcb4ef24eb6",
   "metadata": {},
   "source": [
    "### Latihan 1\n",
    "Membuat program sederhana dengan PySpark. Menggunakan PySpark untuk membuat DataFrame dan memanipulasi data "
   ]
  },
  {
   "cell_type": "code",
   "execution_count": 12,
   "id": "KERSZShIH_aN",
   "metadata": {
    "id": "KERSZShIH_aN"
   },
   "outputs": [],
   "source": [
    "import findspark\n",
    "findspark.init()"
   ]
  },
  {
   "cell_type": "code",
   "execution_count": 60,
   "id": "f78a5053",
   "metadata": {
    "id": "f78a5053"
   },
   "outputs": [
    {
     "name": "stdout",
     "output_type": "stream",
     "text": [
      "+-----+----+\n",
      "| Nama|Usia|\n",
      "+-----+----+\n",
      "|  Ali|  34|\n",
      "| Budi|  23|\n",
      "|Citra|  29|\n",
      "| Dina|  45|\n",
      "+-----+----+\n",
      "\n"
     ]
    }
   ],
   "source": [
    "from pyspark.sql import SparkSession\n",
    "\n",
    "# Memulai Spark session\n",
    "spark = SparkSession.builder.appName(\"BigDataPractice\").getOrCreate()\n",
    "\n",
    "# Membuat DataFrame sederhana\n",
    "data = [(\"Ali\", 34), (\"Budi\", 23), (\"Citra\", 29), (\"Dina\", 45)]\n",
    "columns = [\"Nama\", \"Usia\"]\n",
    "df = spark.createDataFrame(data, columns)\n",
    "\n",
    "# Menampilkan DataFrame\n",
    "df.show()\n"
   ]
  },
  {
   "cell_type": "markdown",
   "id": "8747276f",
   "metadata": {
    "id": "8747276f"
   },
   "source": [
    "### Tugas 1\n",
    "Memodifikasi kode di atas dengan menambahkan data lain berupa kolom pekerjaan, hobi dan gender"
   ]
  },
  {
   "cell_type": "code",
   "execution_count": 17,
   "id": "3f7f3dff-2aab-4490-8854-fc07810903e0",
   "metadata": {
    "id": "KERSZShIH_aN"
   },
   "outputs": [],
   "source": [
    "import findspark\n",
    "findspark.init()"
   ]
  },
  {
   "cell_type": "code",
   "execution_count": 82,
   "id": "5e9f3a52-c016-47dc-a309-478fc7cbaf03",
   "metadata": {},
   "outputs": [
    {
     "name": "stdout",
     "output_type": "stream",
     "text": [
      "+-----+----+---------+---------+---------+\n",
      "| Nama|Usia|pekerjaan|     Hobi|   Gender|\n",
      "+-----+----+---------+---------+---------+\n",
      "|  Ali|  34| Insinyur|  Membaca|Laki-Laki|\n",
      "| Budi|  23|   Dokter|Bersepeda|Laki-Laki|\n",
      "|Citra|  29|  Seniman|  Melukis|Perempuan|\n",
      "| Dina|  45|     Guru| Berkebun|Perempuan|\n",
      "+-----+----+---------+---------+---------+\n",
      "\n"
     ]
    }
   ],
   "source": [
    "from pyspark.sql import SparkSession\n",
    "\n",
    "# Memulai Spark session\n",
    "spark = SparkSession.builder.appName(\"BigDataPractice\").getOrCreate()\n",
    "\n",
    "# Membuat DataFrame sederhana\n",
    "data = [(\"Ali\", 34, \"Insinyur\", \"Membaca\", \"Laki-Laki\"), (\"Budi\", 23, \"Dokter\", \"Bersepeda\", \"Laki-Laki\"), (\"Citra\", 29, \"Seniman\", \"Melukis\", \"Perempuan\"), (\"Dina\", 45, \"Guru\", \"Berkebun\", \"Perempuan\")]\n",
    "columns = [\"Nama\", \"Usia\", \"pekerjaan\", \"Hobi\", \"Gender\"]\n",
    "df = spark.createDataFrame(data, columns)\n",
    "\n",
    "# Menampilkan DataFrame\n",
    "df.show()"
   ]
  },
  {
   "cell_type": "markdown",
   "id": "bfb6d1bd-4ba7-4b69-a7ab-fd21a523634f",
   "metadata": {},
   "source": [
    "Penjelasan Kode:\n",
    "1. **`import findspark`**: Mengimpor modul untuk menemukan instalasi Spark.\n",
    "2. **`findspark.init()`**: Menginisialisasi konfigurasi Spark.\n",
    "3. **`from pyspark.sql import SparkSession`**: Mengimpor `SparkSession` dari PySpark.\n",
    "4. **`spark = SparkSession.builder.appName(\"BigDataPractice\").getOrCreate()`**: Membuat atau mendapatkan instance `SparkSession`.\n",
    "5. **`data = [...]`**: Mendefinisikan data dalam bentuk list of tuples.\n",
    "7. **`columns = [...]`**: Mendefinisikan nama kolom untuk DataFrame yang terdiri dari nama, usia, pekerjaan, hobi dan gender.\n",
    "8. **`df = spark.createDataFrame(data, columns)`**: Membuat DataFrame dari data dan kolom.\n",
    "9. **`df.show()`**: Menampilkan DataFrame yang sudah dibuat.\n",
    "n Pandas."
   ]
  },
  {
   "cell_type": "markdown",
   "id": "d24739ab-cc0c-4e09-b0ce-58dee01035bc",
   "metadata": {},
   "source": [
    "### Latihan 2\n",
    "Memanipulasi Data dengan PySpark."
   ]
  },
  {
   "cell_type": "code",
   "execution_count": 17,
   "id": "3da67f5f-f611-46a6-89f4-332f78f9f122",
   "metadata": {
    "id": "KERSZShIH_aN"
   },
   "outputs": [],
   "source": [
    "import findspark\n",
    "findspark.init()"
   ]
  },
  {
   "cell_type": "code",
   "execution_count": 19,
   "id": "1f391ed5",
   "metadata": {
    "id": "1f391ed5"
   },
   "outputs": [
    {
     "name": "stdout",
     "output_type": "stream",
     "text": [
      "+-----+----+\n",
      "| Nama|Usia|\n",
      "+-----+----+\n",
      "|  Ali|  34|\n",
      "| Budi|  23|\n",
      "|Citra|  29|\n",
      "| Dina|  45|\n",
      "+-----+----+\n",
      "\n",
      "+----+----+\n",
      "|Nama|Usia|\n",
      "+----+----+\n",
      "| Ali|  34|\n",
      "|Dina|  45|\n",
      "+----+----+\n",
      "\n",
      "+---------+\n",
      "|avg(Usia)|\n",
      "+---------+\n",
      "|    32.75|\n",
      "+---------+\n",
      "\n",
      "+-----+----+\n",
      "| Nama|Usia|\n",
      "+-----+----+\n",
      "| Dina|  45|\n",
      "|  Ali|  34|\n",
      "|Citra|  29|\n",
      "| Budi|  23|\n",
      "+-----+----+\n",
      "\n"
     ]
    }
   ],
   "source": [
    "from pyspark.sql import SparkSession\n",
    "\n",
    "# Memulai Spark session\n",
    "spark = SparkSession.builder.appName(\"BigDataPractice\").getOrCreate()\n",
    "\n",
    "# Membuat DataFrame sederhana\n",
    "data = [(\"Ali\", 34), (\"Budi\", 23), (\"Citra\", 29), (\"Dina\", 45)]\n",
    "columns = [\"Nama\", \"Usia\"]\n",
    "df = spark.createDataFrame(data, columns)\n",
    "\n",
    "# Menampilkan DataFrame\n",
    "df.show()\n",
    "\n",
    "# Filtering data\n",
    "df_filtered = df.filter(df['Usia'] > 30)\n",
    "df_filtered.show()\n",
    "\n",
    "# Menghitung rata-rata usia\n",
    "from pyspark.sql.functions import avg\n",
    "df.groupBy().agg(avg(\"Usia\")).show()\n",
    "\n",
    "# Mengurutkan data berdasarkan usia\n",
    "df_sorted = df.orderBy(\"Usia\", ascending=False)\n",
    "df_sorted.show()\n"
   ]
  },
  {
   "cell_type": "markdown",
   "id": "e06767bc",
   "metadata": {
    "id": "e06767bc"
   },
   "source": [
    "### Tugas 2\n",
    "Melakukan filter, penghitungan rata-rata, dan pengurutan data menggunakan PySpark"
   ]
  },
  {
   "cell_type": "code",
   "execution_count": 17,
   "id": "232b2fd1-bc42-4cb7-946d-15b806d5bec8",
   "metadata": {
    "id": "KERSZShIH_aN"
   },
   "outputs": [],
   "source": [
    "import findspark\n",
    "findspark.init()"
   ]
  },
  {
   "cell_type": "code",
   "execution_count": 48,
   "id": "a481219a-606b-4307-8280-25308eb1a230",
   "metadata": {},
   "outputs": [
    {
     "name": "stdout",
     "output_type": "stream",
     "text": [
      "+-----+----+---------+---------+---------+\n",
      "| Nama|Usia|pekerjaan|     Hobi|   Gender|\n",
      "+-----+----+---------+---------+---------+\n",
      "|  Ali|  34| Insinyur|  Membaca|Laki-Laki|\n",
      "| Budi|  23|   Dokter|Bersepeda|Laki-Laki|\n",
      "|Citra|  29|  Seniman|  Melukis|Perempuan|\n",
      "| Dina|  45|     Guru| Berkebun|Perempuan|\n",
      "+-----+----+---------+---------+---------+\n",
      "\n",
      "+-----+----+---------+--------+---------+\n",
      "| Nama|Usia|pekerjaan|    Hobi|   Gender|\n",
      "+-----+----+---------+--------+---------+\n",
      "|Citra|  29|  Seniman| Melukis|Perempuan|\n",
      "| Dina|  45|     Guru|Berkebun|Perempuan|\n",
      "+-----+----+---------+--------+---------+\n",
      "\n",
      "+---------+\n",
      "|avg(Usia)|\n",
      "+---------+\n",
      "|    32.75|\n",
      "+---------+\n",
      "\n",
      "+-----+----+---------+---------+---------+\n",
      "| Nama|Usia|pekerjaan|     Hobi|   Gender|\n",
      "+-----+----+---------+---------+---------+\n",
      "| Dina|  45|     Guru| Berkebun|Perempuan|\n",
      "|  Ali|  34| Insinyur|  Membaca|Laki-Laki|\n",
      "|Citra|  29|  Seniman|  Melukis|Perempuan|\n",
      "| Budi|  23|   Dokter|Bersepeda|Laki-Laki|\n",
      "+-----+----+---------+---------+---------+\n",
      "\n"
     ]
    }
   ],
   "source": [
    "from pyspark.sql import SparkSession\n",
    "\n",
    "# Memulai Spark session\n",
    "spark = SparkSession.builder.appName(\"BigDataPractice\").getOrCreate()\n",
    "\n",
    "# Membuat DataFrame sederhana\n",
    "data = [(\"Ali\", 34, \"Insinyur\", \"Membaca\", \"Laki-Laki\"), (\"Budi\", 23, \"Dokter\", \"Bersepeda\", \"Laki-Laki\"), (\"Citra\", 29, \"Seniman\", \"Melukis\", \"Perempuan\"), (\"Dina\", 45, \"Guru\", \"Berkebun\", \"Perempuan\")]\n",
    "columns = [\"Nama\", \"Usia\", \"pekerjaan\", \"Hobi\", \"Gender\"]\n",
    "df = spark.createDataFrame(data, columns)\n",
    "\n",
    "# Menampilkan DataFrame\n",
    "df.show()\n",
    "\n",
    "# Filtering data\n",
    "df_filtered = df.filter((df['Usia'] > 25) & (df['Gender'] == \"Perempuan\"))\n",
    "df_filtered.show()\n",
    "\n",
    "# Menghitung rata-rata usia\n",
    "from pyspark.sql.functions import avg\n",
    "df.groupBy().agg(avg(\"Usia\")).show()\n",
    "\n",
    "# Mengurutkan data berdasarkan usia\n",
    "df_sorted = df.orderBy(\"Usia\", ascending=False)\n",
    "df_sorted.show()\n"
   ]
  },
  {
   "cell_type": "markdown",
   "id": "8ff5ec59-f21e-4092-9e76-4ac9388b80b1",
   "metadata": {},
   "source": [
    "Penjelasan kode:\n",
    "1. **`import findspark`**: Mengimpor modul `findspark`.\n",
    "2. **`findspark.init()`**: Menginisialisasi konfigurasi Spark.\n",
    "3. **`from pyspark.sql import SparkSession`**: Mengimpor `SparkSession` dari PySpark.\n",
    "4. **`spark = SparkSession.builder.appName(\"BigDataPractice\").getOrCreate()`**: Membuat atau mendapatkan `SparkSession`.\n",
    "5. **`data = [...]`**: Mendefinisikan data dalam bentuk list of tuples.\n",
    "6. **`columns = [...]`**: Mendefinisikan nama kolom untuk DataFrame yang terdiri dari nama, usia, pekerjaan, hobi dan gender.\n",
    "7. **`df = spark.createDataFrame(data, columns)`**: Membuat DataFrame dari data dan kolom.\n",
    "8. **`df.show()`**: Menampilkan DataFrame.\n",
    "9. **`df_filtered = df.filter(...)`**: Menyaring DataFrame berdasarkan usia > 25 dan gender \"Perempuan\".\n",
    "10. **`df_filtered.show()`**: Menampilkan DataFrame yang telah difilter.\n",
    "11. **`from pyspark.sql.functions import avg`**: Mengimpor fungsi `avg` untuk menghitung rata-rata.\n",
    "12. **`df.groupBy().agg(avg(\"Usia\")).show()`**: Menghitung dan menampilkan rata-rata usia.\n",
    "13. **`df_sorted = df.orderBy(\"Usia\", ascending=False)`**: Mengurutkan DataFrame berdasarkan usia secara menurun (tua ke muda).\n",
    "14. **`df_sorted.show()`**: Menampilkan DataFrame yang telah diurutkan.elah diurutkan."
   ]
  },
  {
   "cell_type": "markdown",
   "id": "727d265e-7d5c-4f02-b0cd-edc95648f286",
   "metadata": {},
   "source": [
    "### Latihan 3\n",
    "\n",
    "Membuat DataFrame menggunakan Pandas\n"
   ]
  },
  {
   "cell_type": "code",
   "execution_count": 13,
   "id": "3f1f2ec1",
   "metadata": {
    "id": "3f1f2ec1"
   },
   "outputs": [
    {
     "data": {
      "text/html": [
       "<div>\n",
       "<style scoped>\n",
       "    .dataframe tbody tr th:only-of-type {\n",
       "        vertical-align: middle;\n",
       "    }\n",
       "\n",
       "    .dataframe tbody tr th {\n",
       "        vertical-align: top;\n",
       "    }\n",
       "\n",
       "    .dataframe thead th {\n",
       "        text-align: right;\n",
       "    }\n",
       "</style>\n",
       "<table border=\"1\" class=\"dataframe\">\n",
       "  <thead>\n",
       "    <tr style=\"text-align: right;\">\n",
       "      <th></th>\n",
       "      <th>Nama</th>\n",
       "      <th>Usia</th>\n",
       "    </tr>\n",
       "  </thead>\n",
       "  <tbody>\n",
       "    <tr>\n",
       "      <th>0</th>\n",
       "      <td>Ali</td>\n",
       "      <td>34</td>\n",
       "    </tr>\n",
       "    <tr>\n",
       "      <th>1</th>\n",
       "      <td>Budi</td>\n",
       "      <td>23</td>\n",
       "    </tr>\n",
       "    <tr>\n",
       "      <th>2</th>\n",
       "      <td>Citra</td>\n",
       "      <td>29</td>\n",
       "    </tr>\n",
       "    <tr>\n",
       "      <th>3</th>\n",
       "      <td>Dina</td>\n",
       "      <td>45</td>\n",
       "    </tr>\n",
       "  </tbody>\n",
       "</table>\n",
       "</div>"
      ],
      "text/plain": [
       "    Nama  Usia\n",
       "0    Ali    34\n",
       "1   Budi    23\n",
       "2  Citra    29\n",
       "3   Dina    45"
      ]
     },
     "execution_count": 13,
     "metadata": {},
     "output_type": "execute_result"
    }
   ],
   "source": [
    "import pandas as pd\n",
    "\n",
    "# Membuat DataFrame Pandas\n",
    "data_pandas = {\"Nama\": [\"Ali\", \"Budi\", \"Citra\", \"Dina\"], \"Usia\": [34, 23, 29, 45]}\n",
    "df_pandas = pd.DataFrame(data_pandas)\n",
    "\n",
    "# Menampilkan DataFrame Pandas\n",
    "df_pandas"
   ]
  },
  {
   "cell_type": "markdown",
   "id": "c3368461-d05e-4530-a061-7efb4d173e70",
   "metadata": {},
   "source": [
    "### Tugas 3\n",
    "Memodifikasi DataFrame Pandas dengan menambahkan kolom baru dan melakukan operasi seperti filtering data berdasarkan usia\n"
   ]
  },
  {
   "cell_type": "code",
   "execution_count": 61,
   "id": "621eb355-fb07-428b-81f7-ca18c1071e4a",
   "metadata": {},
   "outputs": [
    {
     "data": {
      "text/html": [
       "<div>\n",
       "<style scoped>\n",
       "    .dataframe tbody tr th:only-of-type {\n",
       "        vertical-align: middle;\n",
       "    }\n",
       "\n",
       "    .dataframe tbody tr th {\n",
       "        vertical-align: top;\n",
       "    }\n",
       "\n",
       "    .dataframe thead th {\n",
       "        text-align: right;\n",
       "    }\n",
       "</style>\n",
       "<table border=\"1\" class=\"dataframe\">\n",
       "  <thead>\n",
       "    <tr style=\"text-align: right;\">\n",
       "      <th></th>\n",
       "      <th>Nama</th>\n",
       "      <th>Usia</th>\n",
       "      <th>Asal</th>\n",
       "    </tr>\n",
       "  </thead>\n",
       "  <tbody>\n",
       "    <tr>\n",
       "      <th>0</th>\n",
       "      <td>Ali</td>\n",
       "      <td>34</td>\n",
       "      <td>Surabaya</td>\n",
       "    </tr>\n",
       "    <tr>\n",
       "      <th>1</th>\n",
       "      <td>Budi</td>\n",
       "      <td>23</td>\n",
       "      <td>Yogyakarta</td>\n",
       "    </tr>\n",
       "    <tr>\n",
       "      <th>2</th>\n",
       "      <td>Citra</td>\n",
       "      <td>29</td>\n",
       "      <td>Bekasi</td>\n",
       "    </tr>\n",
       "    <tr>\n",
       "      <th>3</th>\n",
       "      <td>Dina</td>\n",
       "      <td>45</td>\n",
       "      <td>Solo</td>\n",
       "    </tr>\n",
       "  </tbody>\n",
       "</table>\n",
       "</div>"
      ],
      "text/plain": [
       "    Nama  Usia        Asal\n",
       "0    Ali    34    Surabaya\n",
       "1   Budi    23  Yogyakarta\n",
       "2  Citra    29      Bekasi\n",
       "3   Dina    45        Solo"
      ]
     },
     "metadata": {},
     "output_type": "display_data"
    },
    {
     "data": {
      "text/html": [
       "<div>\n",
       "<style scoped>\n",
       "    .dataframe tbody tr th:only-of-type {\n",
       "        vertical-align: middle;\n",
       "    }\n",
       "\n",
       "    .dataframe tbody tr th {\n",
       "        vertical-align: top;\n",
       "    }\n",
       "\n",
       "    .dataframe thead th {\n",
       "        text-align: right;\n",
       "    }\n",
       "</style>\n",
       "<table border=\"1\" class=\"dataframe\">\n",
       "  <thead>\n",
       "    <tr style=\"text-align: right;\">\n",
       "      <th></th>\n",
       "      <th>Nama</th>\n",
       "      <th>Usia</th>\n",
       "      <th>Asal</th>\n",
       "    </tr>\n",
       "  </thead>\n",
       "  <tbody>\n",
       "    <tr>\n",
       "      <th>0</th>\n",
       "      <td>Ali</td>\n",
       "      <td>34</td>\n",
       "      <td>Surabaya</td>\n",
       "    </tr>\n",
       "    <tr>\n",
       "      <th>3</th>\n",
       "      <td>Dina</td>\n",
       "      <td>45</td>\n",
       "      <td>Solo</td>\n",
       "    </tr>\n",
       "  </tbody>\n",
       "</table>\n",
       "</div>"
      ],
      "text/plain": [
       "   Nama  Usia      Asal\n",
       "0   Ali    34  Surabaya\n",
       "3  Dina    45      Solo"
      ]
     },
     "metadata": {},
     "output_type": "display_data"
    }
   ],
   "source": [
    "import pandas as pd\n",
    "\n",
    "# Membuat DataFrame Pandas\n",
    "data_pandas = {\"Nama\": [\"Ali\", \"Budi\", \"Citra\", \"Dina\"], \"Usia\": [34, 23, 29, 45]}\n",
    "df_pandas = pd.DataFrame(data_pandas)\n",
    "\n",
    "# Menambahkan kolom baru\n",
    "df_pandas[\"Asal\"] = [\"Surabaya\", \"Yogyakarta\", \"Bekasi\", \"Solo\"]\n",
    "\n",
    "# Filtering data berdasarkan usia > 20 \n",
    "df_filtered = df_pandas[df_pandas['Usia'] > 30]\n",
    "\n",
    "# Menampilkan DataFrame Pandas\n",
    "display(df_pandas)\n",
    "display(df_filtered)\n"
   ]
  },
  {
   "cell_type": "markdown",
   "id": "8624481b-e495-42ac-8e36-aa8963f6a2b6",
   "metadata": {},
   "source": [
    "Penjelasan kode:\n",
    "\r\n",
    "1. **`import pandas as pd`**: Mengimpor pustaka `pandas`.\r\n",
    "2. **`data_pandas = {\"Nama\": [\"Ali\", \"Budi\", \"Citra\", \"Dina\"], \"Usia\": [34, 23, 29, 45]}`**: Mendefinisikan data sebagai dictionary.\r\n",
    "3. **`df_pandas = pd.DataFrame(data_pandas)`**: Membuat DataFrame dari dictionary.\r\n",
    "4. **`df_pandas[\"Asal\"] = [\"Surabaya\", \"Yogyakarta\", \"Bekasi\", \"Solo\"]`**: Menambahkan kolom baru \"Asal\".\r\n",
    "5. **`df_filtered = df_pandas[df_pandas['Usia'] > 30]`**: Menyaring DataFrame untuk usia > 30.\r\n",
    "6. **`display(df_pandas)`**: Menampilkan DataFrame lengkap.\r\n",
    "7. **`display(df_filtered)`**: Menampilkan DataFrame yang telah difilter."
   ]
  },
  {
   "cell_type": "markdown",
   "id": "b3574c8e-3c47-4195-a4ec-3df3e94eb08d",
   "metadata": {},
   "source": [
    "### Latihan 4\n",
    "Menggunakan Pandas pada operasi yang lebih kompeks\n"
   ]
  },
  {
   "cell_type": "code",
   "execution_count": 62,
   "id": "e7a8142f",
   "metadata": {
    "id": "e7a8142f"
   },
   "outputs": [
    {
     "name": "stdout",
     "output_type": "stream",
     "text": [
      "    Nama  Usia Pekerjaan\n",
      "0    Ali    34    Dokter\n",
      "1   Budi    23      Guru\n",
      "2  Citra    29  Insinyur\n",
      "3   Dina    45   Perawat\n",
      "            Usia\n",
      "count   4.000000\n",
      "mean   32.750000\n",
      "std     9.322911\n",
      "min    23.000000\n",
      "25%    27.500000\n",
      "50%    31.500000\n",
      "75%    36.750000\n",
      "max    45.000000\n"
     ]
    },
    {
     "data": {
      "image/png": "[encoded data removed]",
      "text/plain": [
       "<Figure size 640x480 with 1 Axes>"
      ]
     },
     "metadata": {},
     "output_type": "display_data"
    }
   ],
   "source": [
    "import pandas as pd\n",
    "\n",
    "# Membuat DataFrame Pandas\n",
    "data_pandas = {\"Nama\": [\"Ali\", \"Budi\", \"Citra\", \"Dina\"], \"Usia\": [34, 23, 29, 45]}\n",
    "df_pandas = pd.DataFrame(data_pandas)\n",
    "\n",
    "# Membuat DataFrame kedua\n",
    "data_pandas_2 = {\"Nama\": [\"Ali\", \"Budi\", \"Citra\", \"Dina\"], \"Pekerjaan\": [\"Dokter\", \"Guru\", \"Insinyur\", \"Perawat\"]}\n",
    "df_pandas_2 = pd.DataFrame(data_pandas_2)\n",
    "\n",
    "# Join antara dua DataFrame\n",
    "df_joined = pd.merge(df_pandas, df_pandas_2, on=\"Nama\")\n",
    "print(df_joined)\n",
    "\n",
    "# Menghitung statistik deskriptif\n",
    "print(df_pandas.describe())\n",
    "\n",
    "# Plotting Data\n",
    "import matplotlib.pyplot as plt\n",
    "df_pandas['Usia'].plot(kind='bar')\n",
    "plt.show()\n"
   ]
  },
  {
   "cell_type": "markdown",
   "id": "48161997-e713-4a9a-aabb-eadca1e2f4e1",
   "metadata": {},
   "source": [
    "### Tugas 4\n",
    "Melakukan penggabungan DataFrame dan visualisasikan data dengan Pandas\n",
    "\n"
   ]
  },
  {
   "cell_type": "code",
   "execution_count": 1,
   "id": "a9d01269-a18e-4e39-86c0-32ade8129f86",
   "metadata": {},
   "outputs": [
    {
     "name": "stdout",
     "output_type": "stream",
     "text": [
      "    Nama  Usia        Asal\n",
      "0    Ali    34    Surabaya\n",
      "1   Budi    23  Yogyakarta\n",
      "2  Citra    29      Bekasi\n",
      "3   Dina    45        Solo\n",
      "            Usia\n",
      "count   4.000000\n",
      "mean   32.750000\n",
      "std     9.322911\n",
      "min    23.000000\n",
      "25%    27.500000\n",
      "50%    31.500000\n",
      "75%    36.750000\n",
      "max    45.000000\n"
     ]
    },
    {
     "data": {
      "image/png": "[encoded data removed]",
      "text/plain": [
       "<Figure size 640x480 with 1 Axes>"
      ]
     },
     "metadata": {},
     "output_type": "display_data"
    }
   ],
   "source": [
    "import pandas as pd\n",
    "\n",
    "# Membuat DataFrame Pandas\n",
    "data_pandas = {\"Nama\": [\"Ali\", \"Budi\", \"Citra\", \"Dina\"], \"Usia\": [34, 23, 29, 45]}\n",
    "df_pandas = pd.DataFrame(data_pandas)\n",
    "\n",
    "# Membuat DataFrame kedua\n",
    "data_pandas_2 = {\"Nama\": [\"Ali\", \"Budi\", \"Citra\", \"Dina\"], \"Asal\": [\"Surabaya\", \"Yogyakarta\", \"Bekasi\", \"Solo\"]}\n",
    "df_pandas_2 = pd.DataFrame(data_pandas_2)\n",
    "\n",
    "# Join antara dua DataFrame\n",
    "df_joined = pd.merge(df_pandas, df_pandas_2, on=\"Nama\")\n",
    "\n",
    "#Menampilkan data secara lengkap\n",
    "print(df_joined)\n",
    "\n",
    "# Menghitung dan menampilkan statistik deskriptif\n",
    "print(df_pandas.describe())\n",
    "\n",
    "# Plotting Data\n",
    "import matplotlib.pyplot as plt\n",
    "\n",
    "# Plotting Data: Visualisasi usia dengan bar chart\n",
    "df_pandas.set_index('Nama')['Usia'].plot(kind='bar')\n",
    "\n",
    "#Menambahkan judul dan label pada sumbu x dan y\n",
    "plt.title(\"Usia dari Setiap Individu\")\n",
    "plt.xlabel(\"Nama\")\n",
    "plt.ylabel(\"Usia\")\n",
    "\n",
    "# Menampilkan plot\n",
    "plt.show()"
   ]
  },
  {
   "cell_type": "markdown",
   "id": "c4fd8ec5-9ad4-4cc2-9d46-66a52a4e0335",
   "metadata": {},
   "source": [
    "Penjelasan kode:\n",
    "1. **`import pandas as pd`**: Mengimpor pustaka `pandas`.\n",
    "2. **`data_pandas = {...}`**: Mendefinisikan data untuk DataFrame pertama.\n",
    "3. **`df_pandas = pd.DataFrame(data_pandas)`**: Membuat DataFrame `df_pandas`.\n",
    "4. **`data_pandas_2 = {...}`**: Mendefinisikan data untuk DataFrame kedua.\n",
    "5. **`df_pandas_2 = pd.DataFrame(data_pandas_2)`**: Membuat DataFrame `df_pandas_2`.\n",
    "6. **`df_joined = pd.merge(df_pandas, df_pandas_2, on=\"Nama\")`**: Menggabungkan kedua DataFrame berdasarkan kolom \"Nama\".\n",
    "7. **`print(df_joined)`**: Menampilkan DataFrame hasil gabungan.\n",
    "8. **`print(df_pandas.describe())`**: Menampilkan statistik deskriptif dari DataFrame `df_pandas`.\n",
    "9. **`import matplotlib.pyplot as plt`**: Mengimpor pustaka `matplotlib` untuk visualisasi.\n",
    "10. **`df_pandas.set_index('Nama')['Usia'].plot(kind='bar')`**: Membuat bar chart untuk kolom 'Usia'.\n",
    "11. **`plt.title(\"Usia dari Setiap Individu\")`**: Menambahkan judul \"Usia dari Setiap Individu\" pada plot.\n",
    "12. **`plt.xlabel(\"Nama\")`**: Menambahkan label \"Nama\" pada sumbu x.\n",
    "13. **`plt.ylabel(\"Usia\")`**: Menambahkan label \"Usia\" sumbu y.\n",
    "14. **`plt.show()`**: Menampilkan plot yang telah dibuat.nampilkan plot."
   ]
  },
  {
   "cell_type": "markdown",
   "id": "60cf021d-af8e-4eed-9aaf-224aee027333",
   "metadata": {},
   "source": [
    "### Latihan 5\n",
    "Mengonversi DataFrame dari PySpark ke Pandas dan sebaliknya\n"
   ]
  },
  {
   "cell_type": "code",
   "execution_count": 64,
   "id": "337e123f",
   "metadata": {
    "id": "337e123f"
   },
   "outputs": [
    {
     "name": "stdout",
     "output_type": "stream",
     "text": [
      "+-----+----+\n",
      "| Nama|Usia|\n",
      "+-----+----+\n",
      "|  Ali|  34|\n",
      "| Budi|  23|\n",
      "|Citra|  29|\n",
      "| Dina|  45|\n",
      "+-----+----+\n",
      "\n"
     ]
    },
    {
     "data": {
      "text/plain": [
       "(    Nama  Usia\n",
       " 0    Ali    34\n",
       " 1   Budi    23\n",
       " 2  Citra    29\n",
       " 3   Dina    45,\n",
       " None)"
      ]
     },
     "execution_count": 64,
     "metadata": {},
     "output_type": "execute_result"
    }
   ],
   "source": [
    "# Mengonversi DataFrame dari PySpark ke Pandas\n",
    "df_pandas_from_spark = df.toPandas()\n",
    "\n",
    "# Mengonversi DataFrame dari Pandas ke PySpark\n",
    "df_spark_from_pandas = spark.createDataFrame(df_pandas)\n",
    "\n",
    "# Menampilkan DataFrame hasil konversi\n",
    "df_pandas_from_spark, df_spark_from_pandas.show()"
   ]
  },
  {
   "cell_type": "markdown",
   "id": "2e0f33a5-160c-43ba-8648-7b42185179f8",
   "metadata": {},
   "source": [
    "### Tugas 5\n",
    "Menggunakan metode di atas untuk menggabungkan data yang Anda buat di PySpark dengan data dari Pandas, kemudian lakukan analisis sederhana seperti menghitung rata-rata usia.\n"
   ]
  },
  {
   "cell_type": "code",
   "execution_count": 96,
   "id": "008c6cdd-8ca9-4b3e-8120-b29c6f5e2bb1",
   "metadata": {},
   "outputs": [
    {
     "name": "stdout",
     "output_type": "stream",
     "text": [
      "+-----+----+---------+---------+---------+\n",
      "| Nama|Usia|Pekerjaan|     Hobi|   Gender|\n",
      "+-----+----+---------+---------+---------+\n",
      "|  Ali|  34| Insinyur|  Membaca|Laki-Laki|\n",
      "| Budi|  23|   Dokter|Bersepeda|Laki-Laki|\n",
      "|Citra|  29|  Seniman|  Melukis|Perempuan|\n",
      "| Dina|  45|     Guru| Berkebun|Perempuan|\n",
      "|  Tyo|  21|Sutradara|  Memasak|Laki-laki|\n",
      "| Caca|  19|      HRD|Fotografi|Perempuan|\n",
      "+-----+----+---------+---------+---------+\n",
      "\n",
      "+---------+\n",
      "|avg(Usia)|\n",
      "+---------+\n",
      "|     28.5|\n",
      "+---------+\n",
      "\n"
     ]
    }
   ],
   "source": [
    "from pyspark.sql import SparkSession\n",
    "import pandas as pd\n",
    "\n",
    "# Memulai Spark session\n",
    "spark = SparkSession.builder.appName(\"BigDataPractice\").getOrCreate()\n",
    "\n",
    "# Membuat DataFrame PySpark\n",
    "data_spark = [(\"Ali\", 34, \"Insinyur\", \"Membaca\", \"Laki-Laki\"), \n",
    "              (\"Budi\", 23, \"Dokter\", \"Bersepeda\", \"Laki-Laki\"), \n",
    "              (\"Citra\", 29, \"Seniman\", \"Melukis\", \"Perempuan\"), \n",
    "              (\"Dina\", 45, \"Guru\", \"Berkebun\", \"Perempuan\")]\n",
    "columns = [\"Nama\", \"Usia\", \"Pekerjaan\", \"Hobi\", \"Gender\"]\n",
    "df_spark = spark.createDataFrame(data_spark, columns)\n",
    " \n",
    "\n",
    "# Membuat DataFrame Pandas\n",
    "data_pandas = {\"Nama\": [\"Tyo\", \"Caca\"], \"Usia\": [21, 19], \"Pekerjaan\": [\"Sutradara\", \"HRD\"], \"Hobi\": [\"Memasak\", \"Fotografi\"], \"Gender\": [\"Laki-laki\", \"Perempuan\"]}\n",
    "df_pandas = pd.DataFrame(data_pandas)\n",
    "\n",
    "# Konversi DataFrame dari PySpark ke Pandas\n",
    "df_pandas_from_spark = df_spark.toPandas()\n",
    "\n",
    "# Konversi DataFrame dari Pandas ke PySpark\n",
    "df_spark_from_pandas = spark.createDataFrame(df_pandas)\n",
    "\n",
    "# Menggabungkan data PySpark dan Pandas (setelah konversi ke PySpark)\n",
    "df_combined = df_spark.unionByName(df_spark_from_pandas)\n",
    "df_combined.show()\n",
    "\n",
    "# Menghitung rata-rata usia\n",
    "df_combined.groupBy().agg(avg(\"Usia\")).show()\n"
   ]
  },
  {
   "cell_type": "markdown",
   "id": "9525eb3e-66e2-475c-bc68-6c23e2b9eb63",
   "metadata": {},
   "source": [
    "Penjelasan kode:\n",
    "1. **`from pyspark.sql import SparkSession`**: Mengimpor `SparkSession`.\n",
    "2. **`import pandas as pd`**: Mengimpor `pandas` untuk manipulasi data dalam DataFrame.\n",
    "3. **`spark = SparkSession.builder.appName(\"BigDataPractice\").getOrCreate()`**: Membuat atau mendapatkan `SparkSession`.\n",
    "4. **`data_spark = [...]`**: Mendefinisikan data untuk DataFrame PySpark.\n",
    "5. **`columns = [...]`**: Mendefinisikan daftar nama kolom.\n",
    "6. **`df_spark = spark.createDataFrame(data_spark, columns)`**: Membuat DataFrame PySpark.\n",
    "7. **`data_pandas = {...}`**: Mendefinisikan data untuk DataFrame Pandas.\n",
    "8. **`df_pandas = pd.DataFrame(data_pandas)`**: Membuat DataFrame Pandas.\n",
    "9. **`df_pandas_from_spark = df_spark.toPandas()`**: Mengonversi DataFrame PySpark ke Pandas.\n",
    "10. **`df_spark_from_pandas = spark.createDataFrame(df_pandas)`**: Mengonversi DataFrame Pandas ke PySpark.\n",
    "11. **`df_combined = df_spark.unionByName(df_spark_from_pandas)`**: Menggabungkan kedua DataFrame PySpark.\n",
    "12. **`df_combined.show()`**: Menampilkan DataFrame gabungan.\n",
    "13. **`df_combined.groupBy().agg(avg(\"Usia\")).show()`**: Menghitung dan menampilkan rata-rata usia dari DataFrame gabungan.ata-rata usia."
   ]
  },
  {
   "cell_type": "markdown",
   "id": "249adbcb-bda2-4701-853d-a23624cfca9e",
   "metadata": {},
   "source": [
    "### Latihan 6\n",
    "Mengkonversi data antara PySpark dan Pandas\n"
   ]
  },
  {
   "cell_type": "code",
   "execution_count": 92,
   "id": "f863defc",
   "metadata": {
    "id": "f863defc"
   },
   "outputs": [
    {
     "name": "stdout",
     "output_type": "stream",
     "text": [
      "+-----+----+----------+\n",
      "| Nama|Usia|      Asal|\n",
      "+-----+----+----------+\n",
      "|  Ali|  34|  Surabaya|\n",
      "| Budi|  23|Yogyakarta|\n",
      "|Citra|  29|    Bekasi|\n",
      "| Dina|  45|      Solo|\n",
      "+-----+----+----------+\n",
      "\n"
     ]
    },
    {
     "data": {
      "text/plain": [
       "(    Nama  Usia pekerjaan       Hobi     Gender\n",
       " 0    Ali    34  Insinyur    Membaca  Laki-Laki\n",
       " 1   Budi    23    Dokter  Bersepeda  Laki-Laki\n",
       " 2  Citra    29   Seniman    Melukis  Perempuan\n",
       " 3   Dina    45      Guru   Berkebun  Perempuan,\n",
       " None)"
      ]
     },
     "execution_count": 92,
     "metadata": {},
     "output_type": "execute_result"
    }
   ],
   "source": [
    "# Mengonversi DataFrame dari PySpark ke Pandas\n",
    "df_pandas_from_spark = df.toPandas()\n",
    "\n",
    "# Mengonversi DataFrame dari Pandas ke PySpark\n",
    "df_spark_from_pandas = spark.createDataFrame(df_pandas)\n",
    "\n",
    "# Menampilkan DataFrame hasil konversi\n",
    "df_pandas_from_spark, df_spark_from_pandas.show()\n"
   ]
  },
  {
   "cell_type": "markdown",
   "id": "cec3420e-fb70-45a6-813d-880845d62c77",
   "metadata": {},
   "source": [
    "### Tugas 6\n",
    "Menggabungkan data dari PySpark dan Pandas, lalu melakukan operasi statistik seperti menghitung nilai maksimum usia"
   ]
  },
  {
   "cell_type": "code",
   "execution_count": 98,
   "id": "358217d4-7d97-4b24-a373-4857b37d72a7",
   "metadata": {},
   "outputs": [
    {
     "name": "stdout",
     "output_type": "stream",
     "text": [
      "+-----+----+---------+---------+---------+\n",
      "| Nama|Usia|Pekerjaan|     Hobi|   Gender|\n",
      "+-----+----+---------+---------+---------+\n",
      "|  Ali|  34| Insinyur|  Membaca|Laki-Laki|\n",
      "| Budi|  23|   Dokter|Bersepeda|Laki-Laki|\n",
      "|Citra|  29|  Seniman|  Melukis|Perempuan|\n",
      "| Dina|  45|     Guru| Berkebun|Perempuan|\n",
      "|  Tyo|  21|Sutradara|  Memasak|Laki-laki|\n",
      "| Caca|  19|      HRD|Fotografi|Perempuan|\n",
      "+-----+----+---------+---------+---------+\n",
      "\n",
      "+---------+\n",
      "|max(Usia)|\n",
      "+---------+\n",
      "|       45|\n",
      "+---------+\n",
      "\n"
     ]
    }
   ],
   "source": [
    "from pyspark.sql import SparkSession\n",
    "import pandas as pd\n",
    "from pyspark.sql.functions import max\n",
    "\n",
    "# Memulai Spark session\n",
    "spark = SparkSession.builder.appName(\"BigDataPractice\").getOrCreate()\n",
    "\n",
    "# Membuat DataFrame PySpark\n",
    "data_spark = [(\"Ali\", 34, \"Insinyur\", \"Membaca\", \"Laki-Laki\"), \n",
    "              (\"Budi\", 23, \"Dokter\", \"Bersepeda\", \"Laki-Laki\"), \n",
    "              (\"Citra\", 29, \"Seniman\", \"Melukis\", \"Perempuan\"), \n",
    "              (\"Dina\", 45, \"Guru\", \"Berkebun\", \"Perempuan\")]\n",
    "columns = [\"Nama\", \"Usia\", \"Pekerjaan\", \"Hobi\", \"Gender\"]\n",
    "df_spark = spark.createDataFrame(data_spark, columns)\n",
    " \n",
    "\n",
    "# Membuat DataFrame Pandas\n",
    "data_pandas = {\"Nama\": [\"Tyo\", \"Caca\"], \"Usia\": [21, 19], \"Pekerjaan\": [\"Sutradara\", \"HRD\"], \"Hobi\": [\"Memasak\", \"Fotografi\"], \"Gender\": [\"Laki-laki\", \"Perempuan\"]}\n",
    "df_pandas = pd.DataFrame(data_pandas)\n",
    "\n",
    "# Konversi DataFrame dari PySpark ke Pandas\n",
    "df_pandas_from_spark = df_spark.toPandas()\n",
    "\n",
    "# Konversi DataFrame dari Pandas ke PySpark\n",
    "df_spark_from_pandas = spark.createDataFrame(df_pandas)\n",
    "\n",
    "# Menggabungkan data PySpark dan Pandas (setelah konversi ke PySpark)\n",
    "df_combined = df_spark.unionByName(df_spark_from_pandas)\n",
    "df_combined.show()\n",
    "\n",
    "# Menghitung nilai maksimum usia\n",
    "df_combined.groupBy().agg(max(\"Usia\")).show()"
   ]
  },
  {
   "cell_type": "markdown",
   "id": "2dcde094-a5ef-4ebc-9713-615363657cae",
   "metadata": {},
   "source": [
    "Penjelasan kode:\n",
    "1. **`from pyspark.sql import SparkSession`**: Mengimpor `SparkSession`.\n",
    "2. **`import pandas as pd`**: Mengimpor `pandas`.\n",
    "3. **`from pyspark.sql.functions import max`**: Mengimpor fungsi `max` dari PySpark untuk menghitung nilai maksimum.\n",
    "4. **`spark = SparkSession.builder.appName(\"BigDataPractice\").getOrCreate()`**: Membuat atau mendapatkan `SparkSession`.\n",
    "5. **`data_spark = [...]`**: Mendefinisikan data untuk DataFrame PySpark.\n",
    "6. **`columns = [...]`**: Mendefinisikan nama kolom yang sesuai dengan data.\n",
    "7. **`df_spark = spark.createDataFrame(data_spark, columns)`**: Membuat DataFrame PySpark dari data dan nama kolom yang telah didefinisikan.\n",
    "8. **`data_pandas = {...}`**: Mendefinisikan data untuk DataFrame Pandas.\n",
    "9. **`df_pandas = pd.DataFrame(data_pandas)`**: Membuat DataFrame Pandas.\n",
    "10. **`df_pandas_from_spark = df_spark.toPandas()`**: Mengonversi DataFrame PySpark ke Pandas.\n",
    "11. **`df_spark_from_pandas = spark.createDataFrame(df_pandas)`**: Mengonversi DataFrame Pandas ke PySpark.\n",
    "12. **`df_combined = df_spark.unionByName(df_spark_from_pandas)`**: Menggabungkan kedua DataFrame PySpark.\n",
    "13. **`df_combined.show()`**: Menampilkan DataFrame gabungan.\n",
    "14. **`df_combined.groupBy().agg(max(\"Usia\")).show()`**: Menghitung dan menampilkan nilai maksimum usia dalam DataFrame gabungan. maksimum usia."
   ]
  },
  {
   "cell_type": "code",
   "execution_count": null,
   "id": "691ab94a-08e0-4dee-830a-72e89a57fab5",
   "metadata": {},
   "outputs": [],
   "source": []
  }
 ],
 "metadata": {
  "colab": {
   "provenance": []
  },
  "kernelspec": {
   "display_name": "Python 3 (ipykernel)",
   "language": "python",
   "name": "python3"
  },
  "language_info": {
   "codemirror_mode": {
    "name": "ipython",
    "version": 3
   },
   "file_extension": ".py",
   "mimetype": "text/x-python",
   "name": "python",
   "nbconvert_exporter": "python",
   "pygments_lexer": "ipython3",
   "version": "3.11.9"
  }
 },
 "nbformat": 4,
 "nbformat_minor": 5
}
